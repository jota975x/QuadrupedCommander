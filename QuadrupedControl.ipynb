{
 "cells": [
  {
   "cell_type": "markdown",
   "metadata": {},
   "source": [
    "# Quadruped Navigation/Motion Control with Text Commands\n"
   ]
  },
  {
   "cell_type": "code",
   "execution_count": 1,
   "metadata": {},
   "outputs": [],
   "source": [
    "import torch\n",
    "import pybullet as p\n",
    "import pybullet_data\n",
    "import time\n",
    "import math"
   ]
  },
  {
   "cell_type": "code",
   "execution_count": 2,
   "metadata": {},
   "outputs": [],
   "source": [
    "PI = math.pi"
   ]
  },
  {
   "cell_type": "markdown",
   "metadata": {},
   "source": [
    "Start Pybullet Client\n"
   ]
  },
  {
   "cell_type": "code",
   "execution_count": 3,
   "metadata": {},
   "outputs": [],
   "source": [
    "physicsClient = p.connect(p.GUI)\n",
    "p.setAdditionalSearchPath(pybullet_data.getDataPath())\n",
    "p.setGravity(0, 0, -9.81)   # set gravity\n",
    "\n",
    "# Load models\n",
    "planeId = p.loadURDF('plane.urdf')\n",
    "\n",
    "init_pos = [0, 0, 0.005]\n",
    "init_orientation = p.getQuaternionFromEuler([0, 0, PI])\n",
    "robotId = p.loadURDF('quadruped/quadruped.urdf', basePosition=init_pos, baseOrientation=init_orientation)"
   ]
  },
  {
   "cell_type": "code",
   "execution_count": 4,
   "metadata": {},
   "outputs": [],
   "source": [
    "from scripts.lidar import lidar_sim"
   ]
  },
  {
   "cell_type": "code",
   "execution_count": 5,
   "metadata": {},
   "outputs": [],
   "source": [
    "p.setJointMotorControl2(robotId, 1, controlMode=p.POSITION_CONTROL, targetPosition=PI/4)"
   ]
  },
  {
   "cell_type": "code",
   "execution_count": 6,
   "metadata": {},
   "outputs": [],
   "source": [
    "lidar_idx = p.getNumJoints(robotId) - 1\n",
    "num_rays = 45\n",
    "ray_length = 10\n",
    "time.sleep(2)\n",
    "\n",
    "SIM_LENGTH = 1\n",
    "for _ in range(SIM_LENGTH):\n",
    "    \n",
    "    data = lidar_sim(robotId, lidar_idx)\n",
    "    \n",
    "    p.stepSimulation()\n",
    "    time.sleep(1/240)"
   ]
  },
  {
   "cell_type": "code",
   "execution_count": null,
   "metadata": {},
   "outputs": [],
   "source": []
  }
 ],
 "metadata": {
  "kernelspec": {
   "display_name": "drl-project",
   "language": "python",
   "name": "python3"
  },
  "language_info": {
   "codemirror_mode": {
    "name": "ipython",
    "version": 3
   },
   "file_extension": ".py",
   "mimetype": "text/x-python",
   "name": "python",
   "nbconvert_exporter": "python",
   "pygments_lexer": "ipython3",
   "version": "3.10.15"
  }
 },
 "nbformat": 4,
 "nbformat_minor": 2
}
