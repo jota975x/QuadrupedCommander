{
 "cells": [
  {
   "cell_type": "markdown",
   "metadata": {},
   "source": [
    "# Quadruped Navigation/Motion Control with Text Commands\n"
   ]
  },
  {
   "cell_type": "code",
   "execution_count": 1,
   "metadata": {},
   "outputs": [],
   "source": [
    "%load_ext autoreload\n",
    "%autoreload 2"
   ]
  },
  {
   "cell_type": "code",
   "execution_count": 2,
   "metadata": {},
   "outputs": [],
   "source": [
    "import torch\n",
    "import pybullet as p\n",
    "import pybullet_data\n",
    "import time\n",
    "import math\n",
    "\n",
    "from scripts.agent import AgentSAC\n",
    "from scripts.utils import get_state, get_spawn, get_goal, get_reward_done"
   ]
  },
  {
   "cell_type": "code",
   "execution_count": 3,
   "metadata": {},
   "outputs": [],
   "source": [
    "# DEFINE VARIABLES AND HYPERPARAMETERS\n",
    "PI = math.pi\n",
    "NUM_EPISODES = 500\n",
    "ACTION_DURATION = 0.2\n",
    "MAX_EPISODE_TIME = 30\n",
    "MAX_STEPS_PER_EPISODE = int(MAX_EPISODE_TIME / ACTION_DURATION)\n",
    "\n",
    "device = torch.device(\"cuda\" if torch.cuda.is_available() else \"cpu\")"
   ]
  },
  {
   "cell_type": "markdown",
   "metadata": {},
   "source": [
    "Create Agent"
   ]
  },
  {
   "cell_type": "code",
   "execution_count": 4,
   "metadata": {},
   "outputs": [],
   "source": [
    "agent = AgentSAC(state_dim=386, action_dim=12).to(device)"
   ]
  },
  {
   "cell_type": "markdown",
   "metadata": {},
   "source": [
    "Start Pybullet Client\n"
   ]
  },
  {
   "cell_type": "code",
   "execution_count": 5,
   "metadata": {},
   "outputs": [],
   "source": [
    "physicsClient = p.connect(p.GUI)\n",
    "p.setAdditionalSearchPath(pybullet_data.getDataPath())"
   ]
  },
  {
   "cell_type": "code",
   "execution_count": null,
   "metadata": {},
   "outputs": [],
   "source": [
    "for episode in range(NUM_EPISODES):\n",
    "    # Reset simulation and upload models\n",
    "    p.resetSimulation()\n",
    "    p.setGravity(0, 0, -9.8)    # set gravity\n",
    "    \n",
    "    # Load Plane model\n",
    "    planeId = p.loadURDF('plane.urdf')\n",
    "\n",
    "    # Load Robot Model\n",
    "    init_x, init_y, init_z_orientation = get_spawn()\n",
    "    init_pos = [init_x, init_y, 0.48] \n",
    "    init_orientation = p.getQuaternionFromEuler([0, 0, init_z_orientation])\n",
    "    robotId = p.loadURDF('quadruped/quadruped.urdf', basePosition=init_pos, baseOrientation=init_orientation)\n",
    "    print(f'placed robot in: {init_x}, {init_y}')\n",
    "    num_joints = p.getNumJoints(robotId) - 1 # One less for LiDAR\n",
    "    \n",
    "    # Get LiDAR idx\n",
    "    lidar_idx = p.getNumJoints(robotId) - 1\n",
    "    \n",
    "    # get goal\n",
    "    goal = get_goal(init_x, init_y)\n",
    "    print(f'goal set to: {goal[0], goal[1]}')\n",
    "    time.sleep(1.0)\n",
    "    \n",
    "    # get state\n",
    "    state = get_state(robotId, goal)\n",
    "    \n",
    "    total_reward = 0\n",
    "    done = False\n",
    "    for step in range(MAX_STEPS_PER_EPISODE):\n",
    "\n",
    "        # Select and apply action\n",
    "        action, log_prob, _ = agent.Actor.sample(state)\n",
    "        action_ = action.detach().cpu().numpy()\n",
    "        p.setJointMotorControlArray(robotId, range(num_joints), controlMode=p.POSITION_CONTROL, targetPositions=action_)\n",
    "        \n",
    "        # Step through the simulation\n",
    "        start_time = time.time()\n",
    "        while time.time() - start_time < ACTION_DURATION:\n",
    "            p.stepSimulation()\n",
    "            time.sleep(1/240.0)\n",
    "        \n",
    "        # Get next state\n",
    "        next_state = get_state(robotId, goal)\n",
    "        \n",
    "        # Calculate reward and done\n",
    "        reward, done = get_reward_done(robotId, goal)\n",
    "        \n",
    "        # Store transition into Replay Buffer\n",
    "        agent.buffer.push(state, action, next_state, reward, done)\n",
    "        \n",
    "        # Optimize networks\n",
    "        if len(agent.buffer.memory) >= agent.batch_size:\n",
    "            states, actions, rewards, next_states, dones = agent.buffer.sample(agent.batch_size)\n",
    "            \n",
    "            # Optimize Critic\n",
    "            agent.optimize_critic(states, actions, rewards, next_states, dones)\n",
    "            \n",
    "            # Optimize Actor\n",
    "            agent.optimize_actor(states)\n",
    "            \n",
    "            # Update Target Critic\n",
    "            agent.update_target()\n",
    "                        \n",
    "        \n",
    "        # Transition into next state\n",
    "        state = next_state\n",
    "        total_reward += reward\n",
    "        \n",
    "        # Break if done\n",
    "        if done:\n",
    "            break\n",
    "        \n",
    "        "
   ]
  }
 ],
 "metadata": {
  "kernelspec": {
   "display_name": "drl-project",
   "language": "python",
   "name": "python3"
  },
  "language_info": {
   "codemirror_mode": {
    "name": "ipython",
    "version": 3
   },
   "file_extension": ".py",
   "mimetype": "text/x-python",
   "name": "python",
   "nbconvert_exporter": "python",
   "pygments_lexer": "ipython3",
   "version": "3.10.15"
  }
 },
 "nbformat": 4,
 "nbformat_minor": 2
}
