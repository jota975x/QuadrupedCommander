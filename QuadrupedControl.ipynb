{
 "cells": [
  {
   "cell_type": "markdown",
   "metadata": {},
   "source": [
    "# Quadruped Navigation/Motion Control with Text Commands\n"
   ]
  },
  {
   "cell_type": "code",
   "execution_count": null,
   "metadata": {},
   "outputs": [],
   "source": [
    "import torch\n",
    "import pybullet as p\n",
    "import pybullet_data\n",
    "import time\n",
    "import math\n",
    "\n",
    "from scripts.lidar import lidar_sim\n",
    "from scripts.agent import AgentSAC"
   ]
  },
  {
   "cell_type": "code",
   "execution_count": null,
   "metadata": {},
   "outputs": [],
   "source": [
    "# DEFINE VARIABLES AND HYPERPARAMETERS\n",
    "PI = math.pi\n",
    "NUM_EPISODES = 1000\n",
    "MAX_STEPS_PER_EPISODE = 1000    # TODO try to set it up so each episode takes one minute"
   ]
  },
  {
   "cell_type": "markdown",
   "metadata": {},
   "source": [
    "Create Agent"
   ]
  },
  {
   "cell_type": "code",
   "execution_count": null,
   "metadata": {},
   "outputs": [],
   "source": [
    "agent = AgentSAC(state_dim=None, action_dim=12) # TODO calculate state_dim"
   ]
  },
  {
   "cell_type": "markdown",
   "metadata": {},
   "source": [
    "Start Pybullet Client\n"
   ]
  },
  {
   "cell_type": "code",
   "execution_count": null,
   "metadata": {},
   "outputs": [],
   "source": [
    "physicsClient = p.connect(p.GUI)\n",
    "p.setAdditionalSearchPath(pybullet_data.getDataPath())\n",
    "p.setGravity(0, 0, -9.81)   # set gravity"
   ]
  },
  {
   "cell_type": "markdown",
   "metadata": {},
   "source": [
    "Training Loop"
   ]
  },
  {
   "cell_type": "code",
   "execution_count": null,
   "metadata": {},
   "outputs": [],
   "source": [
    "# EXAMPLE: Send robot command\n",
    "robotId, num_joints = None, None\n",
    "p.setJointMotorControlArray(robotId, range(num_joints), controlMode=p.POSITION_CONTROL, targetPositions=([0] * num_joints))"
   ]
  },
  {
   "cell_type": "code",
   "execution_count": null,
   "metadata": {},
   "outputs": [],
   "source": [
    "for episode in range(NUM_EPISODES):\n",
    "    # Reset simulation and upload models\n",
    "    p.resetSimulation()\n",
    "    \n",
    "    # Load Plane model\n",
    "    planeId = p.loadURDF('plane.urdf')\n",
    "\n",
    "    # Load Robot Model\n",
    "    init_pos = [0, 0, 0.48]\n",
    "    init_orientation = p.getQuaternionFromEuler([0, 0, 0])\n",
    "    robotId = p.loadURDF('quadruped/quadruped.urdf', basePosition=init_pos, baseOrientation=init_orientation)\n",
    "    num_joints = p.getNumJoints(robotId) - 1 # One less for LiDAR\n",
    "    \n",
    "    # Get LiDAR idx\n",
    "    lidar_idx = p.getNumJoints(robotId) - 1\n",
    "    \n",
    "    # get state\n",
    "    # TODO define a function to collect the state\n",
    "    state = None\n",
    "    \n",
    "    total_reward = 0\n",
    "    done = False\n",
    "    for step in range(MAX_STEPS_PER_EPISODE):\n",
    "        \n",
    "        # Select and apply action\n",
    "        action = None   # TODO add select action logic\n",
    "        p.setJointMotorControlArray(robotId, range(num_joints), controlMode=p.POSITION_CONTROL, targetPositions=action)\n",
    "        \n",
    "        # Step through the simulation\n",
    "        p.stepSimulation()\n",
    "        \n",
    "        # Get next state\n",
    "        # TODO define a function to collect the state\n",
    "        next_state = None\n",
    "        \n",
    "        # Calculate reward\n",
    "        # TODO define a function to calculate the reward\n",
    "        reward = None\n",
    "        \n",
    "        # Check if done\n",
    "        # TODO define a function to check if done\n",
    "        done = None\n",
    "        \n",
    "        # Store transition into Replay Buffer\n",
    "        agent.buffer.push(state, action, next_state, reward, done)\n",
    "        \n",
    "        # Optimize networks\n",
    "        if len(agent.buffer.memory) >= agent.batch_size:\n",
    "            # TODO add optimize functions\n",
    "            pass\n",
    "        \n",
    "        # Transition into next state\n",
    "        state = next_state\n",
    "        total_reward += reward\n",
    "        \n",
    "        # Break if done\n",
    "        if done:\n",
    "            break"
   ]
  },
  {
   "cell_type": "code",
   "execution_count": null,
   "metadata": {},
   "outputs": [],
   "source": [
    "p.disconnect()"
   ]
  }
 ],
 "metadata": {
  "kernelspec": {
   "display_name": "drl-project",
   "language": "python",
   "name": "python3"
  },
  "language_info": {
   "codemirror_mode": {
    "name": "ipython",
    "version": 3
   },
   "file_extension": ".py",
   "mimetype": "text/x-python",
   "name": "python",
   "nbconvert_exporter": "python",
   "pygments_lexer": "ipython3",
   "version": "3.10.15"
  }
 },
 "nbformat": 4,
 "nbformat_minor": 2
}
